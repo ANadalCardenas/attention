{
  "nbformat": 4,
  "nbformat_minor": 0,
  "metadata": {
    "kernelspec": {
      "name": "python3",
      "display_name": "Python 3"
    },
    "colab": {
      "provenance": []
    }
  },
  "cells": [
    {
      "cell_type": "markdown",
      "metadata": {
        "id": "iLQPJbJLlBq7"
      },
      "source": [
        "# Automatic Differentiation with PyTorch\n",
        "Created by [Santiago Pascual](https://scholar.google.es/citations?user=7cVOyh0AAAAJ&hl=ca) ([UPC School](https://www.talent.upc.edu/ing/estudis/formacio/curs/310400/postgrau-artificial-intelligence-deep-learning/) 2019)\n",
        "\n",
        "Updated by [Xavier Giro](https://imatge.upc.edu/web/people/xavier-giro) ([UPC TelecomBCN](https://telecombcn-dl.github.io/dlai-2019/) 2019) and [Gerard I. Gállego](https://www.linkedin.com/in/gerard-gallego/)\n",
        "\n",
        "## Course material\n",
        "* [Slides](https://www.slideshare.net/xavigiro/backpropagation-for-neural-networks) by [Xavier Giro](https://imatge.upc.edu/web/people/xavier-giro)\n",
        "* [Video](https://www.youtube.com/watch?v=uub_hqDlqjc) by [Elisa Sayrol](https://imatge.upc.edu/web/people/elisa-sayrol)"
      ]
    },
    {
      "cell_type": "markdown",
      "metadata": {
        "id": "k6S_xlm3AI05"
      },
      "source": [
        "This session will be about how to perform backpropagation in PyTorch. To build neural networks with PyTorch we must first understand how this framework simplifies our life. Central to all neural networks in PyTorch is the `autograd` package [1]. This package provides **automatic differentiation for all operations on Tensors**. *HOW COOL IS THAT?*\n",
        "\n",
        "This means you can put layers and layers of operations over your PyTorch tensors, and the `autograd` package already computes the derivatives of those operations in the backprop process. It is a define-by-run framework, which means that your backprop is defined by how your code is run, and that every single iteration can be different. *Wow wow, wait... define-by-run? every single iteration can be different? What is all this jargon??* Let's see the following concepts during this tutorial:\n",
        "\n",
        "* The `grad`s in our `tensor`s.\n",
        "* The dynamic computational graph concept (DCG).\n",
        "* The `.backward()` life saver."
      ]
    },
    {
      "cell_type": "code",
      "metadata": {
        "id": "PY3h7JrmvpA7"
      },
      "source": [
        "# Imports that will be needed\n",
        "import torch\n",
        "import torch.nn as nn\n",
        "import torch.nn.functional as F\n",
        "import torch.optim as optim\n",
        "import numpy as np\n",
        "import matplotlib\n",
        "%matplotlib inline\n",
        "import matplotlib.pyplot as plt\n",
        "from timeit import default_timer as timer"
      ],
      "execution_count": 52,
      "outputs": []
    },
    {
      "cell_type": "markdown",
      "metadata": {
        "id": "-2IIIbEwUV0C"
      },
      "source": [
        "### Long Story Short\n",
        "\n",
        "The `torch.Tensor` class has an attribute `.requires_grad`. If you set it to `True`, it **starts tracking all operations on it**. When you finish your computations you can call `.backward()` and have **all the gradients computed automatically**. The gradient for this tensor will be **accumulated** into the `.grad` attribute.\n",
        "\n",
        "*IMPORTANT: Accumulated means it sums up the new gradients to the already existing ones (if any)!*\n",
        "\n",
        "Any operation performed on a `Tensor` that conforms a `Function` (`torch.autograd.Function`) creates a new node of an acyclic graph. This means that each `Tensor` where it comes from (its source `Tensor` and the `Function` that created itself). The `Tensor` attribute `grad_fn` references the `Function` that created it. THAT SIMPLE.\n",
        "\n",
        "Example multiplication of two tensors and the resulting interconnections [2]:\n",
        "\n",
        "![img](https://miro.medium.com/max/336/1*jGo_2J9UQeynwG_3olUD4w.png)\n",
        "\n",
        "Well this is the so called *dynamic computational graph (DCG)*."
      ]
    },
    {
      "cell_type": "markdown",
      "metadata": {
        "id": "UbGvYeNdljpR"
      },
      "source": [
        "#### Creating a tensor, operating on it, and computing derivatives"
      ]
    },
    {
      "cell_type": "code",
      "metadata": {
        "id": "rs0Sdj9BvpA_"
      },
      "source": [
        "import torch\n",
        "\n",
        "def describe_tensor(tensor, name=''):\n",
        "  # Helper function to explore the attributes of a tensor object\n",
        "  print('-' * 30)\n",
        "  print('Name: ', name)\n",
        "  print('-' * 30)\n",
        "  print('data : ', tensor.data)\n",
        "  print('requires_grad : ', tensor.requires_grad)\n",
        "  print('grad: ', tensor.grad)\n",
        "  print('grad_fn: ', tensor.grad_fn)\n",
        "  print('is_leaf: ', tensor.is_leaf)\n",
        "  print('=' * 30)\n"
      ],
      "execution_count": 53,
      "outputs": []
    },
    {
      "cell_type": "code",
      "metadata": {
        "colab": {
          "base_uri": "https://localhost:8080/"
        },
        "id": "0vULlQCOvpBA",
        "outputId": "97a55868-f365-4429-bc82-325abf065eaf"
      },
      "source": [
        "# create a tensor x\n",
        "x = torch.tensor(1.0)\n",
        "# create a tensor y\n",
        "y = torch.tensor(2.0)\n",
        "\n",
        "describe_tensor(x, name='x')\n",
        "describe_tensor(y, name='y')"
      ],
      "execution_count": 54,
      "outputs": [
        {
          "output_type": "stream",
          "name": "stdout",
          "text": [
            "------------------------------\n",
            "Name:  x\n",
            "------------------------------\n",
            "data :  tensor(1.)\n",
            "requires_grad :  False\n",
            "grad:  None\n",
            "grad_fn:  None\n",
            "is_leaf:  True\n",
            "==============================\n",
            "------------------------------\n",
            "Name:  y\n",
            "------------------------------\n",
            "data :  tensor(2.)\n",
            "requires_grad :  False\n",
            "grad:  None\n",
            "grad_fn:  None\n",
            "is_leaf:  True\n",
            "==============================\n"
          ]
        }
      ]
    },
    {
      "cell_type": "code",
      "metadata": {
        "colab": {
          "base_uri": "https://localhost:8080/"
        },
        "id": "hmt0UJ4JvpBA",
        "outputId": "ae283f69-1dfc-4a5e-bde3-0d304bd358ec"
      },
      "source": [
        "# Create z as the multiplicative outcome of x * y\n",
        "z = x * y\n",
        "describe_tensor(z, name='z')"
      ],
      "execution_count": 55,
      "outputs": [
        {
          "output_type": "stream",
          "name": "stdout",
          "text": [
            "------------------------------\n",
            "Name:  z\n",
            "------------------------------\n",
            "data :  tensor(2.)\n",
            "requires_grad :  False\n",
            "grad:  None\n",
            "grad_fn:  None\n",
            "is_leaf:  True\n",
            "==============================\n"
          ]
        }
      ]
    },
    {
      "cell_type": "markdown",
      "metadata": {
        "id": "soQlbc0IHH7a"
      },
      "source": [
        "We have created a DCG out of a simple product of two scalar tensors. But there is no node requiring gradients! Let's call the life saver `backward()` function."
      ]
    },
    {
      "cell_type": "code",
      "metadata": {
        "colab": {
          "base_uri": "https://localhost:8080/",
          "height": 298
        },
        "id": "CdfEwyN9vpBC",
        "outputId": "e27f634f-301f-43aa-a6d4-eec93c7894db"
      },
      "source": [
        "z.backward()"
      ],
      "execution_count": 56,
      "outputs": [
        {
          "output_type": "error",
          "ename": "RuntimeError",
          "evalue": "element 0 of tensors does not require grad and does not have a grad_fn",
          "traceback": [
            "\u001b[0;31m---------------------------------------------------------------------------\u001b[0m",
            "\u001b[0;31mRuntimeError\u001b[0m                              Traceback (most recent call last)",
            "\u001b[0;32m/tmp/ipython-input-148511205.py\u001b[0m in \u001b[0;36m<cell line: 0>\u001b[0;34m()\u001b[0m\n\u001b[0;32m----> 1\u001b[0;31m \u001b[0mz\u001b[0m\u001b[0;34m.\u001b[0m\u001b[0mbackward\u001b[0m\u001b[0;34m(\u001b[0m\u001b[0;34m)\u001b[0m\u001b[0;34m\u001b[0m\u001b[0;34m\u001b[0m\u001b[0m\n\u001b[0m",
            "\u001b[0;32m/usr/local/lib/python3.12/dist-packages/torch/_tensor.py\u001b[0m in \u001b[0;36mbackward\u001b[0;34m(self, gradient, retain_graph, create_graph, inputs)\u001b[0m\n\u001b[1;32m    645\u001b[0m                 \u001b[0minputs\u001b[0m\u001b[0;34m=\u001b[0m\u001b[0minputs\u001b[0m\u001b[0;34m,\u001b[0m\u001b[0;34m\u001b[0m\u001b[0;34m\u001b[0m\u001b[0m\n\u001b[1;32m    646\u001b[0m             )\n\u001b[0;32m--> 647\u001b[0;31m         torch.autograd.backward(\n\u001b[0m\u001b[1;32m    648\u001b[0m             \u001b[0mself\u001b[0m\u001b[0;34m,\u001b[0m \u001b[0mgradient\u001b[0m\u001b[0;34m,\u001b[0m \u001b[0mretain_graph\u001b[0m\u001b[0;34m,\u001b[0m \u001b[0mcreate_graph\u001b[0m\u001b[0;34m,\u001b[0m \u001b[0minputs\u001b[0m\u001b[0;34m=\u001b[0m\u001b[0minputs\u001b[0m\u001b[0;34m\u001b[0m\u001b[0;34m\u001b[0m\u001b[0m\n\u001b[1;32m    649\u001b[0m         )\n",
            "\u001b[0;32m/usr/local/lib/python3.12/dist-packages/torch/autograd/__init__.py\u001b[0m in \u001b[0;36mbackward\u001b[0;34m(tensors, grad_tensors, retain_graph, create_graph, grad_variables, inputs)\u001b[0m\n\u001b[1;32m    352\u001b[0m     \u001b[0;31m# some Python versions print out the first line of a multi-line function\u001b[0m\u001b[0;34m\u001b[0m\u001b[0;34m\u001b[0m\u001b[0m\n\u001b[1;32m    353\u001b[0m     \u001b[0;31m# calls in the traceback and some print out the last line\u001b[0m\u001b[0;34m\u001b[0m\u001b[0;34m\u001b[0m\u001b[0m\n\u001b[0;32m--> 354\u001b[0;31m     _engine_run_backward(\n\u001b[0m\u001b[1;32m    355\u001b[0m         \u001b[0mtensors\u001b[0m\u001b[0;34m,\u001b[0m\u001b[0;34m\u001b[0m\u001b[0;34m\u001b[0m\u001b[0m\n\u001b[1;32m    356\u001b[0m         \u001b[0mgrad_tensors_\u001b[0m\u001b[0;34m,\u001b[0m\u001b[0;34m\u001b[0m\u001b[0;34m\u001b[0m\u001b[0m\n",
            "\u001b[0;32m/usr/local/lib/python3.12/dist-packages/torch/autograd/graph.py\u001b[0m in \u001b[0;36m_engine_run_backward\u001b[0;34m(t_outputs, *args, **kwargs)\u001b[0m\n\u001b[1;32m    827\u001b[0m         \u001b[0munregister_hooks\u001b[0m \u001b[0;34m=\u001b[0m \u001b[0m_register_logging_hooks_on_whole_graph\u001b[0m\u001b[0;34m(\u001b[0m\u001b[0mt_outputs\u001b[0m\u001b[0;34m)\u001b[0m\u001b[0;34m\u001b[0m\u001b[0;34m\u001b[0m\u001b[0m\n\u001b[1;32m    828\u001b[0m     \u001b[0;32mtry\u001b[0m\u001b[0;34m:\u001b[0m\u001b[0;34m\u001b[0m\u001b[0;34m\u001b[0m\u001b[0m\n\u001b[0;32m--> 829\u001b[0;31m         return Variable._execution_engine.run_backward(  # Calls into the C++ engine to run the backward pass\n\u001b[0m\u001b[1;32m    830\u001b[0m             \u001b[0mt_outputs\u001b[0m\u001b[0;34m,\u001b[0m \u001b[0;34m*\u001b[0m\u001b[0margs\u001b[0m\u001b[0;34m,\u001b[0m \u001b[0;34m**\u001b[0m\u001b[0mkwargs\u001b[0m\u001b[0;34m\u001b[0m\u001b[0;34m\u001b[0m\u001b[0m\n\u001b[1;32m    831\u001b[0m         )  # Calls into the C++ engine to run the backward pass\n",
            "\u001b[0;31mRuntimeError\u001b[0m: element 0 of tensors does not require grad and does not have a grad_fn"
          ]
        }
      ]
    },
    {
      "cell_type": "markdown",
      "metadata": {
        "id": "wYMY1ke3ejl3"
      },
      "source": [
        "No hesitation, is was meant to crash. There is no `Tensor` requiring to track the graph because none required the gradients to be computed with `requires_grad=True`. Now we can make it require the gradients by simply using the inplace function `.require_gradients_(True)` or by specifying the flag as `True` at `Tensor` creation time."
      ]
    },
    {
      "cell_type": "code",
      "metadata": {
        "colab": {
          "base_uri": "https://localhost:8080/"
        },
        "id": "qBD-xOEGvpBD",
        "outputId": "55ef07be-11c5-4ce1-a3b6-db6e5593842c"
      },
      "source": [
        "# make x track gradients\n",
        "x = torch.tensor(1.0, requires_grad=True)\n",
        "z = x * y\n",
        "describe_tensor(z)"
      ],
      "execution_count": 57,
      "outputs": [
        {
          "output_type": "stream",
          "name": "stdout",
          "text": [
            "------------------------------\n",
            "Name:  \n",
            "------------------------------\n",
            "data :  tensor(2.)\n",
            "requires_grad :  True\n",
            "grad:  None\n",
            "grad_fn:  <MulBackward0 object at 0x7ec56b814370>\n",
            "is_leaf:  False\n",
            "==============================\n"
          ]
        },
        {
          "output_type": "stream",
          "name": "stderr",
          "text": [
            "/tmp/ipython-input-1325539916.py:10: UserWarning: The .grad attribute of a Tensor that is not a leaf Tensor is being accessed. Its .grad attribute won't be populated during autograd.backward(). If you indeed want the .grad field to be populated for a non-leaf Tensor, use .retain_grad() on the non-leaf Tensor. If you access the non-leaf Tensor by mistake, make sure you access the leaf Tensor instead. See github.com/pytorch/pytorch/pull/30531 for more informations. (Triggered internally at /pytorch/build/aten/src/ATen/core/TensorBody.h:489.)\n",
            "  print('grad: ', tensor.grad)\n"
          ]
        }
      ]
    },
    {
      "cell_type": "markdown",
      "metadata": {
        "id": "A60YjCAse8yQ"
      },
      "source": [
        "#### Note the change in the Tensor description!\n",
        "\n",
        "Now there are two important differences from this `z` to the previous one. First, this one DOES require gradient tracking. But secondly, it contains a `grad_fn` reference to a `MulBackward` operation! Which is basically telling us that multiplication will go through a derivative process in the backward step when we call the `backward()` function."
      ]
    },
    {
      "cell_type": "code",
      "metadata": {
        "colab": {
          "base_uri": "https://localhost:8080/"
        },
        "id": "oB3e2BI1vpBE",
        "outputId": "b7bde6e4-2422-437f-bee4-2759adfd2fd7"
      },
      "source": [
        "# call .backward() now on z\n",
        "z.backward()\n",
        "\n",
        "# Now describe each tensor x, y and z\n",
        "describe_tensor(x, 'x')\n",
        "describe_tensor(y, 'y')\n",
        "describe_tensor(z, 'z')"
      ],
      "execution_count": 58,
      "outputs": [
        {
          "output_type": "stream",
          "name": "stdout",
          "text": [
            "------------------------------\n",
            "Name:  x\n",
            "------------------------------\n",
            "data :  tensor(1.)\n",
            "requires_grad :  True\n",
            "grad:  tensor(2.)\n",
            "grad_fn:  None\n",
            "is_leaf:  True\n",
            "==============================\n",
            "------------------------------\n",
            "Name:  y\n",
            "------------------------------\n",
            "data :  tensor(2.)\n",
            "requires_grad :  False\n",
            "grad:  None\n",
            "grad_fn:  None\n",
            "is_leaf:  True\n",
            "==============================\n",
            "------------------------------\n",
            "Name:  z\n",
            "------------------------------\n",
            "data :  tensor(2.)\n",
            "requires_grad :  True\n",
            "grad:  None\n",
            "grad_fn:  <MulBackward0 object at 0x7ec56b811030>\n",
            "is_leaf:  False\n",
            "==============================\n"
          ]
        },
        {
          "output_type": "stream",
          "name": "stderr",
          "text": [
            "/tmp/ipython-input-1325539916.py:10: UserWarning: The .grad attribute of a Tensor that is not a leaf Tensor is being accessed. Its .grad attribute won't be populated during autograd.backward(). If you indeed want the .grad field to be populated for a non-leaf Tensor, use .retain_grad() on the non-leaf Tensor. If you access the non-leaf Tensor by mistake, make sure you access the leaf Tensor instead. See github.com/pytorch/pytorch/pull/30531 for more informations. (Triggered internally at /pytorch/build/aten/src/ATen/core/TensorBody.h:489.)\n",
            "  print('grad: ', tensor.grad)\n"
          ]
        }
      ]
    },
    {
      "cell_type": "markdown",
      "metadata": {
        "id": "QDt1X6nKh1up"
      },
      "source": [
        "Note that the cell above is showing the text description of the graph [2]:\n",
        "\n",
        "![img](https://miro.medium.com/max/471/1*viCEZbSODfA8ZA4ECPwHxQ.png)"
      ]
    },
    {
      "cell_type": "markdown",
      "metadata": {
        "id": "pmJ3x95wfhlA"
      },
      "source": [
        "### Exercise 1\n",
        "\n",
        "Where does the result of `x.grad` come from and why does it have this value?"
      ]
    },
    {
      "cell_type": "markdown",
      "metadata": {
        "id": "NK_S-fY3rHD6"
      },
      "source": [
        "#### If you try `z.backward()` it will crash, notice the message"
      ]
    },
    {
      "cell_type": "code",
      "metadata": {
        "colab": {
          "base_uri": "https://localhost:8080/",
          "height": 317
        },
        "id": "qI3vYc0VvpBF",
        "outputId": "faeb4f3d-d0af-408d-a363-13fba9d4ead3"
      },
      "source": [
        "z.backward()"
      ],
      "execution_count": 48,
      "outputs": [
        {
          "output_type": "error",
          "ename": "RuntimeError",
          "evalue": "Trying to backward through the graph a second time (or directly access saved tensors after they have already been freed). Saved intermediate values of the graph are freed when you call .backward() or autograd.grad(). Specify retain_graph=True if you need to backward through the graph a second time or if you need to access saved tensors after calling backward.",
          "traceback": [
            "\u001b[0;31m---------------------------------------------------------------------------\u001b[0m",
            "\u001b[0;31mRuntimeError\u001b[0m                              Traceback (most recent call last)",
            "\u001b[0;32m/tmp/ipython-input-148511205.py\u001b[0m in \u001b[0;36m<cell line: 0>\u001b[0;34m()\u001b[0m\n\u001b[0;32m----> 1\u001b[0;31m \u001b[0mz\u001b[0m\u001b[0;34m.\u001b[0m\u001b[0mbackward\u001b[0m\u001b[0;34m(\u001b[0m\u001b[0;34m)\u001b[0m\u001b[0;34m\u001b[0m\u001b[0;34m\u001b[0m\u001b[0m\n\u001b[0m",
            "\u001b[0;32m/usr/local/lib/python3.12/dist-packages/torch/_tensor.py\u001b[0m in \u001b[0;36mbackward\u001b[0;34m(self, gradient, retain_graph, create_graph, inputs)\u001b[0m\n\u001b[1;32m    645\u001b[0m                 \u001b[0minputs\u001b[0m\u001b[0;34m=\u001b[0m\u001b[0minputs\u001b[0m\u001b[0;34m,\u001b[0m\u001b[0;34m\u001b[0m\u001b[0;34m\u001b[0m\u001b[0m\n\u001b[1;32m    646\u001b[0m             )\n\u001b[0;32m--> 647\u001b[0;31m         torch.autograd.backward(\n\u001b[0m\u001b[1;32m    648\u001b[0m             \u001b[0mself\u001b[0m\u001b[0;34m,\u001b[0m \u001b[0mgradient\u001b[0m\u001b[0;34m,\u001b[0m \u001b[0mretain_graph\u001b[0m\u001b[0;34m,\u001b[0m \u001b[0mcreate_graph\u001b[0m\u001b[0;34m,\u001b[0m \u001b[0minputs\u001b[0m\u001b[0;34m=\u001b[0m\u001b[0minputs\u001b[0m\u001b[0;34m\u001b[0m\u001b[0;34m\u001b[0m\u001b[0m\n\u001b[1;32m    649\u001b[0m         )\n",
            "\u001b[0;32m/usr/local/lib/python3.12/dist-packages/torch/autograd/__init__.py\u001b[0m in \u001b[0;36mbackward\u001b[0;34m(tensors, grad_tensors, retain_graph, create_graph, grad_variables, inputs)\u001b[0m\n\u001b[1;32m    352\u001b[0m     \u001b[0;31m# some Python versions print out the first line of a multi-line function\u001b[0m\u001b[0;34m\u001b[0m\u001b[0;34m\u001b[0m\u001b[0m\n\u001b[1;32m    353\u001b[0m     \u001b[0;31m# calls in the traceback and some print out the last line\u001b[0m\u001b[0;34m\u001b[0m\u001b[0;34m\u001b[0m\u001b[0m\n\u001b[0;32m--> 354\u001b[0;31m     _engine_run_backward(\n\u001b[0m\u001b[1;32m    355\u001b[0m         \u001b[0mtensors\u001b[0m\u001b[0;34m,\u001b[0m\u001b[0;34m\u001b[0m\u001b[0;34m\u001b[0m\u001b[0m\n\u001b[1;32m    356\u001b[0m         \u001b[0mgrad_tensors_\u001b[0m\u001b[0;34m,\u001b[0m\u001b[0;34m\u001b[0m\u001b[0;34m\u001b[0m\u001b[0m\n",
            "\u001b[0;32m/usr/local/lib/python3.12/dist-packages/torch/autograd/graph.py\u001b[0m in \u001b[0;36m_engine_run_backward\u001b[0;34m(t_outputs, *args, **kwargs)\u001b[0m\n\u001b[1;32m    827\u001b[0m         \u001b[0munregister_hooks\u001b[0m \u001b[0;34m=\u001b[0m \u001b[0m_register_logging_hooks_on_whole_graph\u001b[0m\u001b[0;34m(\u001b[0m\u001b[0mt_outputs\u001b[0m\u001b[0;34m)\u001b[0m\u001b[0;34m\u001b[0m\u001b[0;34m\u001b[0m\u001b[0m\n\u001b[1;32m    828\u001b[0m     \u001b[0;32mtry\u001b[0m\u001b[0;34m:\u001b[0m\u001b[0;34m\u001b[0m\u001b[0;34m\u001b[0m\u001b[0m\n\u001b[0;32m--> 829\u001b[0;31m         return Variable._execution_engine.run_backward(  # Calls into the C++ engine to run the backward pass\n\u001b[0m\u001b[1;32m    830\u001b[0m             \u001b[0mt_outputs\u001b[0m\u001b[0;34m,\u001b[0m \u001b[0;34m*\u001b[0m\u001b[0margs\u001b[0m\u001b[0;34m,\u001b[0m \u001b[0;34m**\u001b[0m\u001b[0mkwargs\u001b[0m\u001b[0;34m\u001b[0m\u001b[0;34m\u001b[0m\u001b[0m\n\u001b[1;32m    831\u001b[0m         )  # Calls into the C++ engine to run the backward pass\n",
            "\u001b[0;31mRuntimeError\u001b[0m: Trying to backward through the graph a second time (or directly access saved tensors after they have already been freed). Saved intermediate values of the graph are freed when you call .backward() or autograd.grad(). Specify retain_graph=True if you need to backward through the graph a second time or if you need to access saved tensors after calling backward."
          ]
        }
      ]
    },
    {
      "cell_type": "markdown",
      "metadata": {
        "id": "pAyOlfD6sMDM"
      },
      "source": [
        "#### When the backward computation is done...\n",
        "\n",
        "The DCG is removed, and so we cannot perform backprop anymore. Unless you specify you want to retain the graph to do as many backwards as desired (for whatever reason and for an advanced usage of PyTorch).\n",
        "\n",
        "### Exercise 2\n",
        "\n",
        "Make use of the `retain_graph` flag in the `backward` call to backpropagate twice a tensor of ones."
      ]
    },
    {
      "cell_type": "code",
      "metadata": {
        "colab": {
          "base_uri": "https://localhost:8080/"
        },
        "id": "_A1bVAAYvpBG",
        "outputId": "6c0e0aaa-cdf4-4890-9b19-33356ca27251"
      },
      "source": [
        "# Let's try to backward twice\n",
        "\n",
        "x = torch.tensor(1.0, requires_grad=True)\n",
        "y = torch.tensor(2.0)\n",
        "z = x * y\n",
        "\n",
        "# TODO: Backward twice\n",
        "z.backward(retain_graph=True)\n",
        "\n",
        "z.backward()\n",
        "describe_tensor(x, name='x')\n",
        "describe_tensor(y, name='y')"
      ],
      "execution_count": 59,
      "outputs": [
        {
          "output_type": "stream",
          "name": "stdout",
          "text": [
            "------------------------------\n",
            "Name:  x\n",
            "------------------------------\n",
            "data :  tensor(1.)\n",
            "requires_grad :  True\n",
            "grad:  tensor(4.)\n",
            "grad_fn:  None\n",
            "is_leaf:  True\n",
            "==============================\n",
            "------------------------------\n",
            "Name:  y\n",
            "------------------------------\n",
            "data :  tensor(2.)\n",
            "requires_grad :  False\n",
            "grad:  None\n",
            "grad_fn:  None\n",
            "is_leaf:  True\n",
            "==============================\n"
          ]
        }
      ]
    },
    {
      "cell_type": "markdown",
      "metadata": {
        "id": "i5-ZoEsbvA6I"
      },
      "source": [
        "## Building a Neural Network and Training it\n",
        "\n",
        "We will now build a neural network to exemplify the simplicity of using PyTorch for deep learning. And then we will see how backpropagation is applied on it. The network will have one hidden layer and one output layer. We use the `nn` package in PyTorch to get to the neural components, also called `Module`s."
      ]
    },
    {
      "cell_type": "code",
      "metadata": {
        "id": "os7zJ95TvpBH"
      },
      "source": [
        "import torch.nn as nn\n",
        "\n",
        "\n",
        "class MyNet(nn.Module):\n",
        "\n",
        "  def __init__(self):\n",
        "    super().__init__() # must call the superclass init first\n",
        "    # First fully-connected layer (3 inputs, 20 hidden neurons)\n",
        "    self.fc1 = nn.Linear(3, 20)\n",
        "    # First hidden activation\n",
        "    self.act1 = nn.Tanh()\n",
        "    # Second fully-connected layer (20 hidden neurons, 3 outputs)\n",
        "    self.fc2 = nn.Linear(20, 3)\n",
        "    # No activation as we make it a linear output\n",
        "\n",
        "  def forward(self, x):\n",
        "    # activation of first layer is Tanh(FC1(x))\n",
        "    h1 = self.act1(self.fc1(x))\n",
        "    # output activation\n",
        "    y = self.fc2(h1)\n",
        "    return y"
      ],
      "execution_count": 20,
      "outputs": []
    },
    {
      "cell_type": "code",
      "metadata": {
        "colab": {
          "base_uri": "https://localhost:8080/"
        },
        "id": "48gYVFXQvpBH",
        "outputId": "a04002b4-04c0-4555-e8e8-beb6f0527814"
      },
      "source": [
        "# We instantiate our network now, and can even print its structure\n",
        "net = MyNet()\n",
        "print(net)"
      ],
      "execution_count": 21,
      "outputs": [
        {
          "output_type": "stream",
          "name": "stdout",
          "text": [
            "MyNet(\n",
            "  (fc1): Linear(in_features=3, out_features=20, bias=True)\n",
            "  (act1): Tanh()\n",
            "  (fc2): Linear(in_features=20, out_features=3, bias=True)\n",
            ")\n"
          ]
        }
      ]
    },
    {
      "cell_type": "code",
      "metadata": {
        "colab": {
          "base_uri": "https://localhost:8080/",
          "height": 901
        },
        "id": "HXHaICBGvpBH",
        "outputId": "83d3cef7-87b6-4588-cad3-968ce391f059"
      },
      "source": [
        "# We can explore the weight tensor of a layer very simply\n",
        "describe_tensor(net.fc1.weight, 'FC1 weight')\n",
        "describe_tensor(net.act1, 'ACT1')\n"
      ],
      "execution_count": 37,
      "outputs": [
        {
          "output_type": "stream",
          "name": "stdout",
          "text": [
            "------------------------------\n",
            "Name:  FC1 weight\n",
            "------------------------------\n",
            "data :  tensor([[-0.0823,  0.1287,  0.1881],\n",
            "        [ 0.4125,  0.4912, -0.4355],\n",
            "        [ 0.2175, -0.1354, -0.1065],\n",
            "        [-0.2789,  0.4284,  0.0690],\n",
            "        [ 0.4763, -0.5059,  0.1732],\n",
            "        [-0.4546, -0.1852, -0.2371],\n",
            "        [-0.0060,  0.2049,  0.2155],\n",
            "        [ 0.4960,  0.1266,  0.5151],\n",
            "        [ 0.1965,  0.2855,  0.2194],\n",
            "        [ 0.4089,  0.4356,  0.1676],\n",
            "        [ 0.0515, -0.4368,  0.0123],\n",
            "        [-0.4057,  0.1119,  0.0655],\n",
            "        [ 0.1931,  0.0907,  0.4485],\n",
            "        [ 0.4228,  0.4059,  0.4038],\n",
            "        [ 0.2226, -0.4202,  0.1813],\n",
            "        [-0.0387,  0.0029,  0.4577],\n",
            "        [-0.1000, -0.4624, -0.4825],\n",
            "        [-0.5736, -0.5614, -0.2843],\n",
            "        [-0.1617,  0.4416,  0.1133],\n",
            "        [ 0.3123, -0.1739,  0.2232]])\n",
            "requires_grad :  True\n",
            "grad:  None\n",
            "grad_fn:  None\n",
            "is_leaf:  True\n",
            "==============================\n",
            "------------------------------\n",
            "Name:  ACT1\n",
            "------------------------------\n"
          ]
        },
        {
          "output_type": "error",
          "ename": "AttributeError",
          "evalue": "'Tanh' object has no attribute 'data'",
          "traceback": [
            "\u001b[0;31m---------------------------------------------------------------------------\u001b[0m",
            "\u001b[0;31mAttributeError\u001b[0m                            Traceback (most recent call last)",
            "\u001b[0;32m/tmp/ipython-input-1755379280.py\u001b[0m in \u001b[0;36m<cell line: 0>\u001b[0;34m()\u001b[0m\n\u001b[1;32m      1\u001b[0m \u001b[0;31m# We can explore the weight tensor of a layer very simply\u001b[0m\u001b[0;34m\u001b[0m\u001b[0;34m\u001b[0m\u001b[0m\n\u001b[1;32m      2\u001b[0m \u001b[0mdescribe_tensor\u001b[0m\u001b[0;34m(\u001b[0m\u001b[0mnet\u001b[0m\u001b[0;34m.\u001b[0m\u001b[0mfc1\u001b[0m\u001b[0;34m.\u001b[0m\u001b[0mweight\u001b[0m\u001b[0;34m,\u001b[0m \u001b[0;34m'FC1 weight'\u001b[0m\u001b[0;34m)\u001b[0m\u001b[0;34m\u001b[0m\u001b[0;34m\u001b[0m\u001b[0m\n\u001b[0;32m----> 3\u001b[0;31m \u001b[0mdescribe_tensor\u001b[0m\u001b[0;34m(\u001b[0m\u001b[0mnet\u001b[0m\u001b[0;34m.\u001b[0m\u001b[0mact1\u001b[0m\u001b[0;34m,\u001b[0m \u001b[0;34m'ACT1'\u001b[0m\u001b[0;34m)\u001b[0m\u001b[0;34m\u001b[0m\u001b[0;34m\u001b[0m\u001b[0m\n\u001b[0m",
            "\u001b[0;32m/tmp/ipython-input-1325539916.py\u001b[0m in \u001b[0;36mdescribe_tensor\u001b[0;34m(tensor, name)\u001b[0m\n\u001b[1;32m      6\u001b[0m   \u001b[0mprint\u001b[0m\u001b[0;34m(\u001b[0m\u001b[0;34m'Name: '\u001b[0m\u001b[0;34m,\u001b[0m \u001b[0mname\u001b[0m\u001b[0;34m)\u001b[0m\u001b[0;34m\u001b[0m\u001b[0;34m\u001b[0m\u001b[0m\n\u001b[1;32m      7\u001b[0m   \u001b[0mprint\u001b[0m\u001b[0;34m(\u001b[0m\u001b[0;34m'-'\u001b[0m \u001b[0;34m*\u001b[0m \u001b[0;36m30\u001b[0m\u001b[0;34m)\u001b[0m\u001b[0;34m\u001b[0m\u001b[0;34m\u001b[0m\u001b[0m\n\u001b[0;32m----> 8\u001b[0;31m   \u001b[0mprint\u001b[0m\u001b[0;34m(\u001b[0m\u001b[0;34m'data : '\u001b[0m\u001b[0;34m,\u001b[0m \u001b[0mtensor\u001b[0m\u001b[0;34m.\u001b[0m\u001b[0mdata\u001b[0m\u001b[0;34m)\u001b[0m\u001b[0;34m\u001b[0m\u001b[0;34m\u001b[0m\u001b[0m\n\u001b[0m\u001b[1;32m      9\u001b[0m   \u001b[0mprint\u001b[0m\u001b[0;34m(\u001b[0m\u001b[0;34m'requires_grad : '\u001b[0m\u001b[0;34m,\u001b[0m \u001b[0mtensor\u001b[0m\u001b[0;34m.\u001b[0m\u001b[0mrequires_grad\u001b[0m\u001b[0;34m)\u001b[0m\u001b[0;34m\u001b[0m\u001b[0;34m\u001b[0m\u001b[0m\n\u001b[1;32m     10\u001b[0m   \u001b[0mprint\u001b[0m\u001b[0;34m(\u001b[0m\u001b[0;34m'grad: '\u001b[0m\u001b[0;34m,\u001b[0m \u001b[0mtensor\u001b[0m\u001b[0;34m.\u001b[0m\u001b[0mgrad\u001b[0m\u001b[0;34m)\u001b[0m\u001b[0;34m\u001b[0m\u001b[0;34m\u001b[0m\u001b[0m\n",
            "\u001b[0;32m/usr/local/lib/python3.12/dist-packages/torch/nn/modules/module.py\u001b[0m in \u001b[0;36m__getattr__\u001b[0;34m(self, name)\u001b[0m\n\u001b[1;32m   1960\u001b[0m             \u001b[0;32mif\u001b[0m \u001b[0mname\u001b[0m \u001b[0;32min\u001b[0m \u001b[0mmodules\u001b[0m\u001b[0;34m:\u001b[0m\u001b[0;34m\u001b[0m\u001b[0;34m\u001b[0m\u001b[0m\n\u001b[1;32m   1961\u001b[0m                 \u001b[0;32mreturn\u001b[0m \u001b[0mmodules\u001b[0m\u001b[0;34m[\u001b[0m\u001b[0mname\u001b[0m\u001b[0;34m]\u001b[0m\u001b[0;34m\u001b[0m\u001b[0;34m\u001b[0m\u001b[0m\n\u001b[0;32m-> 1962\u001b[0;31m         raise AttributeError(\n\u001b[0m\u001b[1;32m   1963\u001b[0m             \u001b[0;34mf\"'{type(self).__name__}' object has no attribute '{name}'\"\u001b[0m\u001b[0;34m\u001b[0m\u001b[0;34m\u001b[0m\u001b[0m\n\u001b[1;32m   1964\u001b[0m         )\n",
            "\u001b[0;31mAttributeError\u001b[0m: 'Tanh' object has no attribute 'data'"
          ]
        }
      ]
    },
    {
      "cell_type": "markdown",
      "metadata": {
        "id": "dToaGYVRxqcW"
      },
      "source": [
        "Observe that by default we have that the fully connected layer `fc1` DOES require the gradient computation. It is evident that they simplify our lives, because that is the last node to be reached in the backpropagation stage and we do not even have to take care of explicitly saying so."
      ]
    },
    {
      "cell_type": "code",
      "metadata": {
        "colab": {
          "base_uri": "https://localhost:8080/"
        },
        "id": "593rhG-5vpBI",
        "outputId": "b3fdc94b-392a-4543-ac3c-6cd18a2f469a"
      },
      "source": [
        "# We can access all the parameters of our network with the .parameters() function, that returns an iterable\n",
        "# over all tunnable params we created.\n",
        "params = list(net.parameters())\n",
        "for p in params:\n",
        "  print(p.shape)\n",
        "print('You should see two matrices (weights, OUTxIN) and two vectors (biases, OUT). Each pair of weight (W) and bias (b) comes from a fully connected layer.')"
      ],
      "execution_count": 23,
      "outputs": [
        {
          "output_type": "stream",
          "name": "stdout",
          "text": [
            "torch.Size([20, 3])\n",
            "torch.Size([20])\n",
            "torch.Size([3, 20])\n",
            "torch.Size([3])\n",
            "You should see two matrices (weights, OUTxIN) and two vectors (biases, OUT). Each pair of weight (W) and bias (b) comes from a fully connected layer.\n"
          ]
        }
      ]
    },
    {
      "cell_type": "markdown",
      "metadata": {
        "id": "voBmJP_z0sTu"
      },
      "source": [
        "We will use mean squared error (MSE) as the loss function to be able to compute the error between our network outputs and some labels."
      ]
    },
    {
      "cell_type": "code",
      "metadata": {
        "id": "TGV0hcRBvpBI"
      },
      "source": [
        "loss_fn = F.mse_loss"
      ],
      "execution_count": 24,
      "outputs": []
    },
    {
      "cell_type": "markdown",
      "metadata": {
        "id": "t-WeLqGhy80p"
      },
      "source": [
        "Now remember that training a neural network usually takes the following steps:\n",
        "\n",
        "1. Make a forward pass with some input `x` to activate each layer until output `y_`\n",
        "2. Compute the error towards a label `y` with a loss function (like MSE for example)\n",
        "3. Backpropagate the gradients through the network (`.backward()` call)\n",
        "4. Update every tunnable network parameter with its `.grad` attribute (using some optimizer)"
      ]
    },
    {
      "cell_type": "markdown",
      "metadata": {
        "id": "xIGbGkyi08dm"
      },
      "source": [
        "### Exercise 3\n",
        "\n",
        "We will instantiate a network like the one shown earlier and train it to map simple uniform noise to zeros. We will track the loss value, which must decrease, and will plot it.\n",
        "\n",
        "1. **Understand why we call `optimizer.zero_grad()`** in the training loop. Read its functionallity in the PyTorch documentation: https://pytorch.org/docs/stable/optim.html#torch.optim.Optimizer\n",
        "2. **Fill in the missing pieces to complete the aforementioned training steps** in order to observe a decreasing loss in the depicted plot. The loss should get very close to zero with a clear decreasing trend in few iterations."
      ]
    },
    {
      "cell_type": "code",
      "metadata": {
        "colab": {
          "base_uri": "https://localhost:8080/",
          "height": 1000
        },
        "id": "s0gGSjaPvpBJ",
        "outputId": "cc3a6992-80b5-48d2-ecb1-c958645a779e"
      },
      "source": [
        "def train(network, optimizer, loss_fn, num_iters):\n",
        "  \"\"\" Training function \"\"\"\n",
        "\n",
        "  loss_history = []\n",
        "\n",
        "  for niter in range(1, num_iters + 1):\n",
        "\n",
        "    optimizer.zero_grad()\n",
        "\n",
        "    # TODO: sample 10 (minibatch size) random samples\n",
        "    # of dimension expected by NN\n",
        "    # (https://pytorch.org/docs/stable/torch.html#torch.rand)\n",
        "    x = torch.rand(10, 3)\n",
        "\n",
        "    # 1) Forward the data through the network\n",
        "    y_ = network(x)\n",
        "\n",
        "    # 2) Compute the loss wrt to a zero label\n",
        "    loss = loss_fn(y_, torch.zeros(y_.shape))\n",
        "\n",
        "    # 3) Backprop with respect to the loss function\n",
        "    # TODO\n",
        "    loss.backward()\n",
        "\n",
        "    # Store the loss log to plot\n",
        "    loss_history.append(loss.item())\n",
        "\n",
        "    # 4) Apply the optimizer with a learning step\n",
        "    optimizer.step()\n",
        "\n",
        "    if niter % 50 == 0:\n",
        "      print('Step {:2d} loss: {:.3f}'.format(niter, loss_history[-1]))\n",
        "\n",
        "      # Inspect parameters\n",
        "      for name, param in network.named_parameters():\n",
        "          print(f\"{name} data:\\n{param.data}\\n\")\n",
        "\n",
        "  plt.plot(loss_history)\n",
        "  plt.xlabel('Niter')\n",
        "  plt.ylabel('Loss')\n",
        "\n",
        "net = MyNet()\n",
        "# we will take stochastic gradient descent (SGD) to exemplify the training loop of a neural network\n",
        "# We first need to handle the parameters that the optimizer will tune, and then we must specify the learning rate (lr) of each\n",
        "# update step\n",
        "opt = optim.SGD(net.parameters(), lr=0.01)\n",
        "train(net, opt, loss_fn, 500)"
      ],
      "execution_count": 32,
      "outputs": [
        {
          "output_type": "stream",
          "name": "stdout",
          "text": [
            "Step 50 loss: 0.010\n",
            "fc1.weight data:\n",
            "tensor([[ 0.3851,  0.4402,  0.1454],\n",
            "        [ 0.3834,  0.1303,  0.2412],\n",
            "        [ 0.2439,  0.3957,  0.0448],\n",
            "        [ 0.3549, -0.1270,  0.0522],\n",
            "        [-0.0869, -0.1101,  0.2757],\n",
            "        [ 0.4945, -0.3832, -0.1165],\n",
            "        [ 0.5217,  0.2783, -0.1701],\n",
            "        [ 0.4220,  0.2465, -0.3953],\n",
            "        [-0.3941, -0.5522, -0.0623],\n",
            "        [-0.1285, -0.0669,  0.4625],\n",
            "        [ 0.5400,  0.1261,  0.1149],\n",
            "        [-0.1092,  0.2089,  0.5329],\n",
            "        [ 0.0661,  0.4723, -0.0459],\n",
            "        [-0.1892, -0.4889, -0.4296],\n",
            "        [-0.0331,  0.4479,  0.0603],\n",
            "        [ 0.0875, -0.4797, -0.2215],\n",
            "        [ 0.0240,  0.5270, -0.4318],\n",
            "        [-0.3357, -0.2888,  0.0991],\n",
            "        [-0.0979,  0.0366, -0.1379],\n",
            "        [ 0.2294,  0.0975,  0.4221]])\n",
            "\n",
            "fc1.bias data:\n",
            "tensor([-0.2505, -0.2249,  0.0492, -0.2442, -0.0571,  0.0986, -0.2243,  0.5342,\n",
            "        -0.1982,  0.3815,  0.2181, -0.5524,  0.5564,  0.4023, -0.2451,  0.3178,\n",
            "         0.1138, -0.2277,  0.4241,  0.2831])\n",
            "\n",
            "fc2.weight data:\n",
            "tensor([[ 0.1531, -0.0155, -0.0477, -0.0386,  0.0633, -0.1302, -0.0965,  0.1793,\n",
            "         -0.1116, -0.0686, -0.0252, -0.0152,  0.1042,  0.1592, -0.0720,  0.0901,\n",
            "         -0.1614,  0.1145,  0.1368,  0.1812],\n",
            "        [-0.0274,  0.0565,  0.0754,  0.0894,  0.0528, -0.2104, -0.1951,  0.1531,\n",
            "          0.1842,  0.0572, -0.0873,  0.1259, -0.1621,  0.1806, -0.0097,  0.2128,\n",
            "         -0.0139, -0.1418, -0.0692,  0.1525],\n",
            "        [-0.0734,  0.1793, -0.1649,  0.0185, -0.1360,  0.1547,  0.1839,  0.2272,\n",
            "          0.1824, -0.0877, -0.1438,  0.1185, -0.0575, -0.1330, -0.0803, -0.0455,\n",
            "         -0.1139, -0.1794,  0.0014, -0.0326]])\n",
            "\n",
            "fc2.bias data:\n",
            "tensor([-0.1688,  0.0411,  0.0380])\n",
            "\n",
            "Step 100 loss: 0.003\n",
            "fc1.weight data:\n",
            "tensor([[ 0.3841,  0.4386,  0.1437],\n",
            "        [ 0.3842,  0.1327,  0.2430],\n",
            "        [ 0.2442,  0.3951,  0.0439],\n",
            "        [ 0.3558, -0.1258,  0.0529],\n",
            "        [-0.0871, -0.1112,  0.2742],\n",
            "        [ 0.4938, -0.3831, -0.1149],\n",
            "        [ 0.5212,  0.2788, -0.1684],\n",
            "        [ 0.4225,  0.2484, -0.3944],\n",
            "        [-0.3929, -0.5500, -0.0606],\n",
            "        [-0.1280, -0.0668,  0.4625],\n",
            "        [ 0.5394,  0.1246,  0.1140],\n",
            "        [-0.1080,  0.2112,  0.5343],\n",
            "        [ 0.0652,  0.4712, -0.0467],\n",
            "        [-0.1890, -0.4893, -0.4313],\n",
            "        [-0.0330,  0.4473,  0.0600],\n",
            "        [ 0.0886, -0.4785, -0.2219],\n",
            "        [ 0.0244,  0.5266, -0.4317],\n",
            "        [-0.3372, -0.2917,  0.0968],\n",
            "        [-0.0989,  0.0355, -0.1389],\n",
            "        [ 0.2295,  0.0977,  0.4213]])\n",
            "\n",
            "fc1.bias data:\n",
            "tensor([-0.2538, -0.2213,  0.0478, -0.2427, -0.0598,  0.1013, -0.2214,  0.5359,\n",
            "        -0.1947,  0.3816,  0.2162, -0.5494,  0.5547,  0.3993, -0.2456,  0.3175,\n",
            "         0.1141, -0.2322,  0.4221,  0.2818])\n",
            "\n",
            "fc2.weight data:\n",
            "tensor([[ 0.1517, -0.0166, -0.0515, -0.0368,  0.0631, -0.1314, -0.0961,  0.1724,\n",
            "         -0.1049, -0.0752, -0.0315, -0.0119,  0.0960,  0.1598, -0.0709,  0.0890,\n",
            "         -0.1624,  0.1196,  0.1325,  0.1739],\n",
            "        [-0.0220,  0.0596,  0.0810,  0.0892,  0.0514, -0.2099, -0.1908,  0.1599,\n",
            "          0.1765,  0.0599, -0.0812,  0.1244, -0.1552,  0.1765, -0.0075,  0.2107,\n",
            "         -0.0092, -0.1478, -0.0667,  0.1577],\n",
            "        [-0.0711,  0.1798, -0.1595,  0.0145, -0.1357,  0.1527,  0.1825,  0.2351,\n",
            "          0.1736, -0.0792, -0.1371,  0.1160, -0.0464, -0.1354, -0.0795, -0.0467,\n",
            "         -0.1109, -0.1856,  0.0071, -0.0238]])\n",
            "\n",
            "fc2.bias data:\n",
            "tensor([-0.1824,  0.0491,  0.0547])\n",
            "\n",
            "Step 150 loss: 0.002\n",
            "fc1.weight data:\n",
            "tensor([[ 0.3842,  0.4384,  0.1433],\n",
            "        [ 0.3838,  0.1334,  0.2433],\n",
            "        [ 0.2450,  0.3951,  0.0437],\n",
            "        [ 0.3561, -0.1253,  0.0529],\n",
            "        [-0.0863, -0.1112,  0.2738],\n",
            "        [ 0.4924, -0.3841, -0.1142],\n",
            "        [ 0.5199,  0.2783, -0.1677],\n",
            "        [ 0.4221,  0.2493, -0.3947],\n",
            "        [-0.3930, -0.5492, -0.0605],\n",
            "        [-0.1275, -0.0667,  0.4625],\n",
            "        [ 0.5395,  0.1240,  0.1139],\n",
            "        [-0.1079,  0.2121,  0.5344],\n",
            "        [ 0.0651,  0.4707, -0.0467],\n",
            "        [-0.1879, -0.4886, -0.4321],\n",
            "        [-0.0326,  0.4471,  0.0601],\n",
            "        [ 0.0897, -0.4773, -0.2224],\n",
            "        [ 0.0250,  0.5263, -0.4315],\n",
            "        [-0.3371, -0.2927,  0.0964],\n",
            "        [-0.0993,  0.0352, -0.1391],\n",
            "        [ 0.2299,  0.0983,  0.4209]])\n",
            "\n",
            "fc1.bias data:\n",
            "tensor([-0.2547, -0.2206,  0.0476, -0.2424, -0.0603,  0.1020, -0.2205,  0.5357,\n",
            "        -0.1941,  0.3818,  0.2158, -0.5489,  0.5545,  0.3984, -0.2455,  0.3173,\n",
            "         0.1146, -0.2332,  0.4215,  0.2812])\n",
            "\n",
            "fc2.weight data:\n",
            "tensor([[ 0.1523, -0.0164, -0.0518, -0.0362,  0.0627, -0.1320, -0.0950,  0.1709,\n",
            "         -0.1037, -0.0776, -0.0329, -0.0107,  0.0939,  0.1590, -0.0698,  0.0879,\n",
            "         -0.1617,  0.1206,  0.1311,  0.1718],\n",
            "        [-0.0185,  0.0615,  0.0840,  0.0896,  0.0500, -0.2098, -0.1871,  0.1629,\n",
            "          0.1730,  0.0593, -0.0787,  0.1240, -0.1527,  0.1738, -0.0053,  0.2089,\n",
            "         -0.0057, -0.1507, -0.0663,  0.1590],\n",
            "        [-0.0722,  0.1782, -0.1595,  0.0121, -0.1354,  0.1499,  0.1801,  0.2352,\n",
            "          0.1732, -0.0775, -0.1378,  0.1162, -0.0447, -0.1351, -0.0790, -0.0475,\n",
            "         -0.1101, -0.1855,  0.0084, -0.0232]])\n",
            "\n",
            "fc2.bias data:\n",
            "tensor([-0.1867,  0.0504,  0.0573])\n",
            "\n",
            "Step 200 loss: 0.003\n",
            "fc1.weight data:\n",
            "tensor([[ 0.3844,  0.4383,  0.1429],\n",
            "        [ 0.3832,  0.1341,  0.2436],\n",
            "        [ 0.2457,  0.3949,  0.0431],\n",
            "        [ 0.3563, -0.1250,  0.0528],\n",
            "        [-0.0855, -0.1112,  0.2733],\n",
            "        [ 0.4912, -0.3846, -0.1131],\n",
            "        [ 0.5188,  0.2781, -0.1666],\n",
            "        [ 0.4217,  0.2501, -0.3948],\n",
            "        [-0.3932, -0.5487, -0.0604],\n",
            "        [-0.1271, -0.0667,  0.4624],\n",
            "        [ 0.5397,  0.1235,  0.1137],\n",
            "        [-0.1080,  0.2128,  0.5344],\n",
            "        [ 0.0651,  0.4705, -0.0465],\n",
            "        [-0.1869, -0.4883, -0.4332],\n",
            "        [-0.0323,  0.4468,  0.0600],\n",
            "        [ 0.0905, -0.4766, -0.2232],\n",
            "        [ 0.0254,  0.5259, -0.4315],\n",
            "        [-0.3368, -0.2933,  0.0962],\n",
            "        [-0.0995,  0.0351, -0.1391],\n",
            "        [ 0.2302,  0.0987,  0.4204]])\n",
            "\n",
            "fc1.bias data:\n",
            "tensor([-0.2554, -0.2201,  0.0469, -0.2425, -0.0610,  0.1033, -0.2191,  0.5355,\n",
            "        -0.1940,  0.3818,  0.2156, -0.5488,  0.5547,  0.3970, -0.2455,  0.3165,\n",
            "         0.1147, -0.2337,  0.4214,  0.2805])\n",
            "\n",
            "fc2.weight data:\n",
            "tensor([[ 0.1534, -0.0158, -0.0516, -0.0356,  0.0623, -0.1324, -0.0936,  0.1703,\n",
            "         -0.1035, -0.0791, -0.0334, -0.0098,  0.0929,  0.1579, -0.0687,  0.0868,\n",
            "         -0.1608,  0.1207,  0.1302,  0.1708],\n",
            "        [-0.0159,  0.0628,  0.0855,  0.0905,  0.0488, -0.2097, -0.1839,  0.1638,\n",
            "          0.1718,  0.0571, -0.0782,  0.1243, -0.1528,  0.1719, -0.0035,  0.2073,\n",
            "         -0.0030, -0.1519, -0.0670,  0.1582],\n",
            "        [-0.0732,  0.1769, -0.1593,  0.0097, -0.1348,  0.1470,  0.1775,  0.2352,\n",
            "          0.1725, -0.0751, -0.1383,  0.1167, -0.0426, -0.1354, -0.0784, -0.0486,\n",
            "         -0.1098, -0.1854,  0.0098, -0.0219]])\n",
            "\n",
            "fc2.bias data:\n",
            "tensor([-0.1893,  0.0481,  0.0604])\n",
            "\n",
            "Step 250 loss: 0.003\n",
            "fc1.weight data:\n",
            "tensor([[ 0.3848,  0.4382,  0.1426],\n",
            "        [ 0.3825,  0.1346,  0.2438],\n",
            "        [ 0.2465,  0.3947,  0.0427],\n",
            "        [ 0.3565, -0.1247,  0.0526],\n",
            "        [-0.0847, -0.1112,  0.2729],\n",
            "        [ 0.4899, -0.3851, -0.1123],\n",
            "        [ 0.5175,  0.2779, -0.1658],\n",
            "        [ 0.4212,  0.2509, -0.3949],\n",
            "        [-0.3937, -0.5483, -0.0605],\n",
            "        [-0.1267, -0.0667,  0.4623],\n",
            "        [ 0.5400,  0.1230,  0.1136],\n",
            "        [-0.1083,  0.2134,  0.5343],\n",
            "        [ 0.0651,  0.4704, -0.0463],\n",
            "        [-0.1858, -0.4879, -0.4340],\n",
            "        [-0.0320,  0.4465,  0.0599],\n",
            "        [ 0.0913, -0.4760, -0.2237],\n",
            "        [ 0.0258,  0.5255, -0.4315],\n",
            "        [-0.3363, -0.2939,  0.0961],\n",
            "        [-0.0996,  0.0351, -0.1390],\n",
            "        [ 0.2306,  0.0991,  0.4200]])\n",
            "\n",
            "fc1.bias data:\n",
            "tensor([-0.2558, -0.2199,  0.0464, -0.2426, -0.0614,  0.1042, -0.2183,  0.5354,\n",
            "        -0.1940,  0.3818,  0.2154, -0.5487,  0.5549,  0.3962, -0.2456,  0.3159,\n",
            "         0.1148, -0.2338,  0.4213,  0.2800])\n",
            "\n",
            "fc2.weight data:\n",
            "tensor([[ 0.1546, -0.0152, -0.0510, -0.0352,  0.0620, -0.1326, -0.0924,  0.1703,\n",
            "         -0.1038, -0.0800, -0.0333, -0.0093,  0.0927,  0.1568, -0.0678,  0.0860,\n",
            "         -0.1599,  0.1204,  0.1298,  0.1704],\n",
            "        [-0.0136,  0.0640,  0.0869,  0.0913,  0.0478, -0.2096, -0.1811,  0.1647,\n",
            "          0.1706,  0.0552, -0.0776,  0.1245, -0.1528,  0.1703, -0.0019,  0.2060,\n",
            "         -0.0008, -0.1529, -0.0676,  0.1576],\n",
            "        [-0.0745,  0.1752, -0.1596,  0.0073, -0.1342,  0.1437,  0.1748,  0.2344,\n",
            "          0.1727, -0.0737, -0.1396,  0.1176, -0.0416, -0.1353, -0.0777, -0.0499,\n",
            "         -0.1093, -0.1847,  0.0108, -0.0218]])\n",
            "\n",
            "fc2.bias data:\n",
            "tensor([-0.1906,  0.0463,  0.0619])\n",
            "\n",
            "Step 300 loss: 0.002\n",
            "fc1.weight data:\n",
            "tensor([[ 0.3852,  0.4383,  0.1425],\n",
            "        [ 0.3818,  0.1350,  0.2438],\n",
            "        [ 0.2473,  0.3946,  0.0424],\n",
            "        [ 0.3566, -0.1245,  0.0525],\n",
            "        [-0.0838, -0.1111,  0.2728],\n",
            "        [ 0.4886, -0.3859, -0.1118],\n",
            "        [ 0.5162,  0.2774, -0.1653],\n",
            "        [ 0.4207,  0.2516, -0.3951],\n",
            "        [-0.3941, -0.5479, -0.0607],\n",
            "        [-0.1263, -0.0667,  0.4623],\n",
            "        [ 0.5403,  0.1226,  0.1136],\n",
            "        [-0.1086,  0.2139,  0.5342],\n",
            "        [ 0.0651,  0.4702, -0.0460],\n",
            "        [-0.1847, -0.4873, -0.4345],\n",
            "        [-0.0316,  0.4463,  0.0599],\n",
            "        [ 0.0922, -0.4751, -0.2242],\n",
            "        [ 0.0263,  0.5251, -0.4315],\n",
            "        [-0.3357, -0.2943,  0.0962],\n",
            "        [-0.0996,  0.0352, -0.1390],\n",
            "        [ 0.2310,  0.0996,  0.4196]])\n",
            "\n",
            "fc1.bias data:\n",
            "tensor([-0.2560, -0.2198,  0.0461, -0.2427, -0.0616,  0.1047, -0.2176,  0.5351,\n",
            "        -0.1942,  0.3818,  0.2153, -0.5488,  0.5552,  0.3956, -0.2456,  0.3156,\n",
            "         0.1150, -0.2338,  0.4214,  0.2795])\n",
            "\n",
            "fc2.weight data:\n",
            "tensor([[ 1.5593e-01, -1.4413e-02, -5.0128e-02, -3.4903e-02,  6.1618e-02,\n",
            "         -1.3280e-01, -9.1073e-02,  1.7072e-01, -1.0461e-01, -8.0576e-02,\n",
            "         -3.2951e-02, -8.8086e-03,  9.2903e-02,  1.5558e-01, -6.6796e-02,\n",
            "          8.4961e-02, -1.5882e-01,  1.1977e-01,  1.2949e-01,  1.7040e-01],\n",
            "        [-1.1100e-02,  6.5310e-02,  8.8423e-02,  9.2067e-02,  4.6788e-02,\n",
            "         -2.0969e-01, -1.7824e-01,  1.6574e-01,  1.6921e-01,  5.3564e-02,\n",
            "         -7.6880e-02,  1.2481e-01, -1.5254e-01,  1.6837e-01, -1.0980e-04,\n",
            "          2.0455e-01,  1.6626e-03, -1.5416e-01, -6.8088e-02,  1.5718e-01],\n",
            "        [-7.6034e-02,  1.7334e-01, -1.6029e-01,  5.1940e-03, -1.3383e-01,\n",
            "          1.4075e-01,  1.7218e-01,  2.3316e-01,  1.7353e-01, -7.2877e-02,\n",
            "         -1.4145e-01,  1.1832e-01, -4.1255e-02, -1.3491e-01, -7.7096e-02,\n",
            "         -5.0811e-02, -1.0900e-01, -1.8364e-01,  1.1473e-02, -2.2243e-02]])\n",
            "\n",
            "fc2.bias data:\n",
            "tensor([-0.1913,  0.0447,  0.0624])\n",
            "\n",
            "Step 350 loss: 0.002\n",
            "fc1.weight data:\n",
            "tensor([[ 0.3856,  0.4383,  0.1423],\n",
            "        [ 0.3812,  0.1355,  0.2439],\n",
            "        [ 0.2480,  0.3945,  0.0421],\n",
            "        [ 0.3568, -0.1242,  0.0523],\n",
            "        [-0.0829, -0.1111,  0.2726],\n",
            "        [ 0.4873, -0.3866, -0.1113],\n",
            "        [ 0.5150,  0.2771, -0.1648],\n",
            "        [ 0.4203,  0.2523, -0.3953],\n",
            "        [-0.3944, -0.5476, -0.0607],\n",
            "        [-0.1260, -0.0667,  0.4622],\n",
            "        [ 0.5405,  0.1221,  0.1135],\n",
            "        [-0.1088,  0.2145,  0.5341],\n",
            "        [ 0.0652,  0.4701, -0.0459],\n",
            "        [-0.1836, -0.4868, -0.4351],\n",
            "        [-0.0314,  0.4461,  0.0599],\n",
            "        [ 0.0931, -0.4744, -0.2246],\n",
            "        [ 0.0266,  0.5247, -0.4315],\n",
            "        [-0.3353, -0.2948,  0.0963],\n",
            "        [-0.0997,  0.0352, -0.1389],\n",
            "        [ 0.2314,  0.1000,  0.4193]])\n",
            "\n",
            "fc1.bias data:\n",
            "tensor([-0.2563, -0.2195,  0.0457, -0.2427, -0.0619,  0.1052, -0.2170,  0.5350,\n",
            "        -0.1941,  0.3818,  0.2151, -0.5488,  0.5553,  0.3950, -0.2456,  0.3153,\n",
            "         0.1149, -0.2340,  0.4214,  0.2792])\n",
            "\n",
            "fc2.weight data:\n",
            "tensor([[ 0.1572, -0.0137, -0.0493, -0.0346,  0.0613, -0.1329, -0.0898,  0.1712,\n",
            "         -0.1054, -0.0811, -0.0325, -0.0084,  0.0932,  0.1545, -0.0659,  0.0841,\n",
            "         -0.1578,  0.1192,  0.1293,  0.1705],\n",
            "        [-0.0088,  0.0665,  0.0900,  0.0927,  0.0458, -0.2096, -0.1756,  0.1670,\n",
            "          0.1677,  0.0522, -0.0759,  0.1248, -0.1520,  0.1668,  0.0014,  0.2034,\n",
            "          0.0040, -0.1555, -0.0684,  0.1570],\n",
            "        [-0.0773,  0.1718, -0.1606,  0.0031, -0.1335,  0.1380,  0.1698,  0.2325,\n",
            "          0.1738, -0.0717, -0.1427,  0.1189, -0.0403, -0.1347, -0.0766, -0.0517,\n",
            "         -0.1086, -0.1830,  0.0124, -0.0222]])\n",
            "\n",
            "fc2.bias data:\n",
            "tensor([-0.1918,  0.0438,  0.0637])\n",
            "\n",
            "Step 400 loss: 0.001\n",
            "fc1.weight data:\n",
            "tensor([[ 0.3860,  0.4383,  0.1421],\n",
            "        [ 0.3807,  0.1360,  0.2440],\n",
            "        [ 0.2486,  0.3943,  0.0417],\n",
            "        [ 0.3569, -0.1241,  0.0522],\n",
            "        [-0.0823, -0.1111,  0.2723],\n",
            "        [ 0.4863, -0.3870, -0.1106],\n",
            "        [ 0.5141,  0.2770, -0.1642],\n",
            "        [ 0.4199,  0.2529, -0.3954],\n",
            "        [-0.3948, -0.5472, -0.0608],\n",
            "        [-0.1257, -0.0668,  0.4621],\n",
            "        [ 0.5408,  0.1217,  0.1135],\n",
            "        [-0.1091,  0.2149,  0.5340],\n",
            "        [ 0.0652,  0.4700, -0.0457],\n",
            "        [-0.1827, -0.4865, -0.4357],\n",
            "        [-0.0311,  0.4459,  0.0598],\n",
            "        [ 0.0938, -0.4739, -0.2251],\n",
            "        [ 0.0270,  0.5244, -0.4316],\n",
            "        [-0.3349, -0.2952,  0.0963],\n",
            "        [-0.0998,  0.0352, -0.1388],\n",
            "        [ 0.2317,  0.1004,  0.4190]])\n",
            "\n",
            "fc1.bias data:\n",
            "tensor([-0.2567, -0.2193,  0.0452, -0.2429, -0.0622,  0.1060, -0.2162,  0.5348,\n",
            "        -0.1942,  0.3818,  0.2149, -0.5488,  0.5556,  0.3943, -0.2457,  0.3148,\n",
            "         0.1150, -0.2341,  0.4214,  0.2787])\n",
            "\n",
            "fc2.weight data:\n",
            "tensor([[ 0.1581, -0.0132, -0.0488, -0.0343,  0.0610, -0.1331, -0.0888,  0.1712,\n",
            "         -0.1057, -0.0818, -0.0324, -0.0079,  0.0930,  0.1535, -0.0651,  0.0834,\n",
            "         -0.1571,  0.1189,  0.1289,  0.1702],\n",
            "        [-0.0070,  0.0674,  0.0910,  0.0934,  0.0449, -0.2096, -0.1733,  0.1676,\n",
            "          0.1670,  0.0505, -0.0757,  0.1250, -0.1522,  0.1655,  0.0027,  0.2023,\n",
            "          0.0058, -0.1563, -0.0689,  0.1563],\n",
            "        [-0.0783,  0.1704, -0.1608,  0.0011, -0.1331,  0.1354,  0.1677,  0.2320,\n",
            "          0.1738, -0.0704, -0.1437,  0.1194, -0.0393, -0.1347, -0.0760, -0.0527,\n",
            "         -0.1082, -0.1826,  0.0132, -0.0219]])\n",
            "\n",
            "fc2.bias data:\n",
            "tensor([-0.1929,  0.0420,  0.0652])\n",
            "\n",
            "Step 450 loss: 0.002\n",
            "fc1.weight data:\n",
            "tensor([[ 0.3863,  0.4383,  0.1420],\n",
            "        [ 0.3801,  0.1364,  0.2440],\n",
            "        [ 0.2493,  0.3941,  0.0414],\n",
            "        [ 0.3571, -0.1239,  0.0520],\n",
            "        [-0.0815, -0.1111,  0.2721],\n",
            "        [ 0.4852, -0.3876, -0.1100],\n",
            "        [ 0.5131,  0.2767, -0.1636],\n",
            "        [ 0.4194,  0.2535, -0.3956],\n",
            "        [-0.3952, -0.5469, -0.0609],\n",
            "        [-0.1254, -0.0668,  0.4621],\n",
            "        [ 0.5410,  0.1213,  0.1134],\n",
            "        [-0.1094,  0.2154,  0.5338],\n",
            "        [ 0.0653,  0.4699, -0.0455],\n",
            "        [-0.1818, -0.4862, -0.4363],\n",
            "        [-0.0308,  0.4457,  0.0598],\n",
            "        [ 0.0944, -0.4734, -0.2256],\n",
            "        [ 0.0274,  0.5241, -0.4316],\n",
            "        [-0.3343, -0.2956,  0.0964],\n",
            "        [-0.0999,  0.0353, -0.1387],\n",
            "        [ 0.2320,  0.1007,  0.4186]])\n",
            "\n",
            "fc1.bias data:\n",
            "tensor([-0.2570, -0.2193,  0.0449, -0.2430, -0.0624,  0.1066, -0.2156,  0.5345,\n",
            "        -0.1943,  0.3818,  0.2148, -0.5489,  0.5558,  0.3937, -0.2456,  0.3143,\n",
            "         0.1151, -0.2341,  0.4214,  0.2783])\n",
            "\n",
            "fc2.weight data:\n",
            "tensor([[ 0.1591, -0.0126, -0.0483, -0.0340,  0.0607, -0.1334, -0.0878,  0.1713,\n",
            "         -0.1061, -0.0824, -0.0323, -0.0075,  0.0929,  0.1526, -0.0643,  0.0826,\n",
            "         -0.1563,  0.1186,  0.1285,  0.1699],\n",
            "        [-0.0052,  0.0683,  0.0920,  0.0941,  0.0441, -0.2096, -0.1710,  0.1681,\n",
            "          0.1662,  0.0488, -0.0754,  0.1252, -0.1523,  0.1642,  0.0041,  0.2012,\n",
            "          0.0078, -0.1570, -0.0695,  0.1556],\n",
            "        [-0.0794,  0.1689, -0.1613, -0.0008, -0.1327,  0.1327,  0.1655,  0.2310,\n",
            "          0.1743, -0.0696, -0.1452,  0.1203, -0.0389, -0.1346, -0.0753, -0.0538,\n",
            "         -0.1079, -0.1817,  0.0138, -0.0222]])\n",
            "\n",
            "fc2.bias data:\n",
            "tensor([-0.1938,  0.0402,  0.0656])\n",
            "\n",
            "Step 500 loss: 0.001\n",
            "fc1.weight data:\n",
            "tensor([[ 0.3866,  0.4384,  0.1417],\n",
            "        [ 0.3796,  0.1368,  0.2442],\n",
            "        [ 0.2498,  0.3940,  0.0410],\n",
            "        [ 0.3572, -0.1237,  0.0518],\n",
            "        [-0.0809, -0.1111,  0.2718],\n",
            "        [ 0.4843, -0.3881, -0.1094],\n",
            "        [ 0.5122,  0.2765, -0.1630],\n",
            "        [ 0.4191,  0.2541, -0.3957],\n",
            "        [-0.3955, -0.5466, -0.0610],\n",
            "        [-0.1252, -0.0669,  0.4620],\n",
            "        [ 0.5412,  0.1209,  0.1133],\n",
            "        [-0.1096,  0.2158,  0.5338],\n",
            "        [ 0.0653,  0.4697, -0.0453],\n",
            "        [-0.1810, -0.4858, -0.4368],\n",
            "        [-0.0305,  0.4455,  0.0597],\n",
            "        [ 0.0951, -0.4728, -0.2260],\n",
            "        [ 0.0277,  0.5238, -0.4316],\n",
            "        [-0.3340, -0.2960,  0.0963],\n",
            "        [-0.0999,  0.0353, -0.1386],\n",
            "        [ 0.2323,  0.1011,  0.4183]])\n",
            "\n",
            "fc1.bias data:\n",
            "tensor([-0.2573, -0.2191,  0.0445, -0.2431, -0.0627,  0.1072, -0.2149,  0.5344,\n",
            "        -0.1943,  0.3818,  0.2146, -0.5489,  0.5560,  0.3930, -0.2457,  0.3139,\n",
            "         0.1151, -0.2342,  0.4214,  0.2779])\n",
            "\n",
            "fc2.weight data:\n",
            "tensor([[ 0.1602, -0.0120, -0.0477, -0.0337,  0.0604, -0.1335, -0.0868,  0.1715,\n",
            "         -0.1066, -0.0830, -0.0321, -0.0071,  0.0929,  0.1517, -0.0635,  0.0818,\n",
            "         -0.1554,  0.1182,  0.1283,  0.1698],\n",
            "        [-0.0033,  0.0692,  0.0931,  0.0947,  0.0432, -0.2096, -0.1687,  0.1688,\n",
            "          0.1653,  0.0472, -0.0750,  0.1255, -0.1524,  0.1628,  0.0055,  0.2000,\n",
            "          0.0096, -0.1579, -0.0700,  0.1551],\n",
            "        [-0.0804,  0.1677, -0.1615, -0.0026, -0.1323,  0.1304,  0.1635,  0.2306,\n",
            "          0.1743, -0.0684, -0.1460,  0.1208, -0.0380, -0.1346, -0.0748, -0.0546,\n",
            "         -0.1076, -0.1813,  0.0146, -0.0219]])\n",
            "\n",
            "fc2.bias data:\n",
            "tensor([-0.1946,  0.0386,  0.0671])\n",
            "\n"
          ]
        },
        {
          "output_type": "display_data",
          "data": {
            "text/plain": [
              "<Figure size 640x480 with 1 Axes>"
            ],
            "image/png": "[encoded data removed]"
          },
          "metadata": {}
        }
      ]
    },
    {
      "cell_type": "markdown",
      "metadata": {
        "id": "fA23afv_wJq9"
      },
      "source": [
        "We can compare the difference in output from a non-trained and the trained network"
      ]
    },
    {
      "cell_type": "code",
      "source": [
        "# We can explore the weight tensor of a layer very simply\n",
        "describe_tensor(net.fc1.weight, 'FC1 weight')"
      ],
      "metadata": {
        "colab": {
          "base_uri": "https://localhost:8080/"
        },
        "id": "7nNgzupv5XyP",
        "outputId": "236e17e6-dd6e-454b-be46-ca4d91b302f3"
      },
      "execution_count": 30,
      "outputs": [
        {
          "output_type": "stream",
          "name": "stdout",
          "text": [
            "------------------------------\n",
            "Name:  FC1 weight\n",
            "------------------------------\n",
            "data :  tensor([[ 0.1119, -0.0387, -0.1564],\n",
            "        [-0.0545,  0.1242,  0.2331],\n",
            "        [-0.0252,  0.1839,  0.2620],\n",
            "        [-0.0601,  0.5636,  0.1342],\n",
            "        [ 0.1105,  0.4115, -0.3320],\n",
            "        [-0.2520,  0.5001,  0.5107],\n",
            "        [-0.0647,  0.2943,  0.5298],\n",
            "        [ 0.2364,  0.3249,  0.1517],\n",
            "        [ 0.1708,  0.0326,  0.3396],\n",
            "        [-0.2185, -0.2495,  0.0755],\n",
            "        [ 0.3178, -0.3098,  0.2513],\n",
            "        [-0.2961, -0.5610, -0.4757],\n",
            "        [ 0.1466, -0.2515, -0.4064],\n",
            "        [ 0.4987, -0.4481, -0.3789],\n",
            "        [-0.4401,  0.2282,  0.5041],\n",
            "        [-0.1788,  0.5448,  0.0813],\n",
            "        [ 0.5458, -0.0804, -0.2287],\n",
            "        [ 0.3587, -0.4423, -0.2550],\n",
            "        [ 0.3529, -0.1806,  0.1795],\n",
            "        [-0.1015, -0.3319,  0.3464]])\n",
            "requires_grad :  True\n",
            "grad:  tensor([[ 1.4895e-06,  6.2662e-04, -2.5217e-04],\n",
            "        [ 1.1376e-04,  3.0375e-05,  4.9089e-04],\n",
            "        [-9.5793e-05, -1.0204e-03,  4.0313e-04],\n",
            "        [-7.7785e-05, -2.2844e-04, -3.3872e-04],\n",
            "        [ 3.5626e-05, -4.3451e-04,  8.6682e-07],\n",
            "        [-3.2411e-04, -1.2900e-03,  3.3291e-04],\n",
            "        [ 6.5913e-06,  2.4494e-04,  2.1297e-04],\n",
            "        [ 8.3454e-06, -1.2861e-03,  4.9631e-04],\n",
            "        [ 1.8488e-05, -7.6360e-04,  1.1054e-04],\n",
            "        [ 1.5914e-04, -1.5611e-03,  1.0161e-03],\n",
            "        [ 3.0270e-05, -9.7897e-04,  1.0328e-04],\n",
            "        [ 1.6756e-04,  2.8962e-04,  2.6692e-05],\n",
            "        [ 3.3642e-05,  7.3098e-04, -2.0758e-04],\n",
            "        [-1.5497e-04, -4.2959e-04, -6.1894e-04],\n",
            "        [-1.4904e-04,  8.7357e-04, -7.3326e-04],\n",
            "        [-1.0491e-04,  6.8326e-04, -2.0848e-04],\n",
            "        [ 3.7648e-05,  7.9970e-04, -1.2815e-04],\n",
            "        [-6.8906e-05, -3.6324e-04,  7.6876e-04],\n",
            "        [ 2.2382e-04, -6.7330e-04,  7.7460e-04],\n",
            "        [ 6.9609e-05,  3.8719e-04,  4.4170e-05]])\n",
            "grad_fn:  None\n",
            "is_leaf:  True\n",
            "==============================\n"
          ]
        }
      ]
    },
    {
      "cell_type": "code",
      "metadata": {
        "colab": {
          "base_uri": "https://localhost:8080/"
        },
        "id": "TH9dWi35vpBK",
        "outputId": "375cbea2-225c-42c8-f2f6-4d857399c129"
      },
      "source": [
        "# Generate 5 random samples of dimensionality 3\n",
        "x_sample = torch.rand(5, 3)\n",
        "\n",
        "# Forward the data through a non trained network\n",
        "non_trained = MyNet()\n",
        "print('Non-trained result: ', torch.mean(non_trained(x_sample)).item())\n",
        "\n",
        "# Forward through the trained network (net)\n",
        "print('Trained result: ', torch.mean(net(x_sample)).item())\n",
        "\n",
        "print('Trained result should be closer to zero than the non-trained one (if training went well).')"
      ],
      "execution_count": 33,
      "outputs": [
        {
          "output_type": "stream",
          "name": "stdout",
          "text": [
            "Non-trained result:  -0.20233353972434998\n",
            "Trained result:  0.012371031567454338\n",
            "Trained result should be closer to zero than the non-trained one (if training went well).\n"
          ]
        }
      ]
    },
    {
      "cell_type": "markdown",
      "metadata": {
        "id": "MY2OxOiH9ZQ2"
      },
      "source": [
        "### When we do NOT want gradients\n",
        "\n",
        "There are some scenarios where we want to avoid building the `backward` graph, as we will not need gradients. For example, during inference/prediction/test. We can avoid the computation of gradients through the neural network forward pass by enclosing it into the `with torch.no_grad()` context (**which speeds up evaluation process by x2 or x3 normally**). As an example:"
      ]
    },
    {
      "cell_type": "code",
      "metadata": {
        "id": "UB4CGF_UvpBK"
      },
      "source": [
        "x = torch.zeros(10, 3)\n",
        "with torch.no_grad():\n",
        "  y_ = net(x)\n",
        "  loss = loss_fn(y_, torch.zeros(x.shape))\n",
        "  print('Loss: {:.2f}'.format(loss))\n",
        "  describe_tensor(loss, 'loss')\n",
        "  print('NOTE THAT requires_grad=False NOW IN THE LOSS TENSOR')\n",
        "  # This would crash: y.backward()\n"
      ],
      "execution_count": null,
      "outputs": []
    },
    {
      "cell_type": "markdown",
      "metadata": {
        "id": "xNyoimhfACrG"
      },
      "source": [
        "Finally, we can also cut the graph at any point we want (if we want) with the `.detach()` function of a `Tensor`. For instance, if we only wanted to train the output layer in the previous network (leaving the first layer `fc1` to behave randomly for whatever reason), we can re-define it as:"
      ]
    },
    {
      "cell_type": "code",
      "metadata": {
        "colab": {
          "base_uri": "https://localhost:8080/"
        },
        "id": "J6IQ9GusvpBL",
        "outputId": "ac1226a0-36ba-4d36-f575-193276a299b0"
      },
      "source": [
        "class MyNetWithDetach(nn.Module):\n",
        "\n",
        "  def __init__(self):\n",
        "    super().__init__() # must call the superclass init first\n",
        "    # First fully-connected layer (3 inputs, 20 hidden neurons)\n",
        "    self.fc1 = nn.Linear(3, 20)\n",
        "    # First hidden activation\n",
        "    self.act1 = nn.Tanh()\n",
        "    # Second fully-connected layer (20 hidden neurons, 3 outputs)\n",
        "    self.fc2 = nn.Linear(20, 3)\n",
        "    # No activation as we make it a linear output\n",
        "\n",
        "  def forward(self, x):\n",
        "    # activation of first layer is Tanh(FC1(x))\n",
        "    h1 = self.act1(self.fc1(x))\n",
        "    print(h1.grad_fn)\n",
        "    # DETACH\n",
        "    h1 = h1.detach()\n",
        "    # output activation\n",
        "    y = self.fc2(h1)\n",
        "    return y\n",
        "\n",
        "# Now we can train this network\n",
        "net = MyNetWithDetach()\n",
        "# Now we can observe the difference of gradients in the biases of the 2 layers\n",
        "# between this network and the regular one\n",
        "# in terms of computed gradients\n",
        "\n",
        "def forward_backward(network, net_name=''):\n",
        "  x = torch.zeros(10, 3)\n",
        "  y_ = network(x)\n",
        "  loss = loss_fn(y_, torch.zeros(x.shape))\n",
        "  loss.backward()\n",
        "  describe_tensor(network.fc1.bias, '{}:FC1 bias'.format(net_name))\n",
        "  describe_tensor(network.fc2.bias, '{}:FC2 bias'.format(net_name))\n",
        "\n",
        "# Try with a non-detached network\n",
        "forward_backward(MyNet(), 'Non-Detached Net')\n",
        "# Try with a detached network\n",
        "forward_backward(MyNetWithDetach(), 'Detached Net')\n"
      ],
      "execution_count": 40,
      "outputs": [
        {
          "output_type": "stream",
          "name": "stdout",
          "text": [
            "------------------------------\n",
            "Name:  Non-Detached Net:FC1 bias\n",
            "------------------------------\n",
            "data :  tensor([-0.1025, -0.5755, -0.3435,  0.2923, -0.3228,  0.0245, -0.2591, -0.1612,\n",
            "         0.0948,  0.5722,  0.3694,  0.3044,  0.3200, -0.0655, -0.1932, -0.2079,\n",
            "        -0.0151, -0.4065, -0.0746,  0.0322])\n",
            "requires_grad :  True\n",
            "grad:  tensor([-0.0133, -0.0497, -0.0271, -0.0542,  0.0326,  0.0867, -0.0331,  0.0072,\n",
            "         0.0359, -0.0143,  0.0792,  0.0211, -0.0277,  0.0395, -0.0776, -0.1050,\n",
            "         0.0609, -0.0718, -0.0780,  0.0410])\n",
            "grad_fn:  None\n",
            "is_leaf:  True\n",
            "==============================\n",
            "------------------------------\n",
            "Name:  Non-Detached Net:FC2 bias\n",
            "------------------------------\n",
            "data :  tensor([-0.2218, -0.1662,  0.0216])\n",
            "requires_grad :  True\n",
            "grad:  tensor([-0.2101, -0.3245,  0.0412])\n",
            "grad_fn:  None\n",
            "is_leaf:  True\n",
            "==============================\n",
            "<TanhBackward0 object at 0x7ec56b814dc0>\n",
            "------------------------------\n",
            "Name:  Detached Net:FC1 bias\n",
            "------------------------------\n",
            "data :  tensor([ 0.1930,  0.3623, -0.1266,  0.4559,  0.5205,  0.3553, -0.4951,  0.5665,\n",
            "        -0.1072, -0.1262,  0.1019, -0.2559, -0.1881,  0.5763,  0.0554,  0.1142,\n",
            "        -0.4336, -0.3769,  0.2490, -0.1503])\n",
            "requires_grad :  True\n",
            "grad:  None\n",
            "grad_fn:  None\n",
            "is_leaf:  True\n",
            "==============================\n",
            "------------------------------\n",
            "Name:  Detached Net:FC2 bias\n",
            "------------------------------\n",
            "data :  tensor([0.0418, 0.2069, 0.1286])\n",
            "requires_grad :  True\n",
            "grad:  tensor([ 0.1314, -0.0788, -0.0152])\n",
            "grad_fn:  None\n",
            "is_leaf:  True\n",
            "==============================\n"
          ]
        }
      ]
    },
    {
      "cell_type": "markdown",
      "metadata": {
        "id": "xm-8_-TyB8Ju"
      },
      "source": [
        "And you may wonder...\n",
        "\n",
        "1. *Why would I cut the gradient flow at a certain point in my neural network? It looks like avoiding the learning process in some components. How may this be beneficial?* **A: Well, a neural network can be trained per blocks, as they are also tunnable feature extractors. Just bear in mind that you can bring a pre-trained neural network piece, attach it to your own additional piece, and tune only your own part of the network by freezing the first one**.\n",
        "\n",
        "2. *What happens to the optimizer, which has the full list of parameters of my network, after I detach the graph?* **A: the optimizer still contains a reference to your parameters. So in the MyNetWithDetach case, it still has a reference to fc1 parameters. Nonetheless, as `.grad` is None, it simply cannot update the parameters.**\n"
      ]
    },
    {
      "cell_type": "markdown",
      "metadata": {
        "id": "OvLjQHWuk06p"
      },
      "source": [
        "### References\n",
        "\n",
        "[1] https://pytorch.org/tutorials/beginner/blitz/autograd_tutorial.html\n",
        "\n",
        "[2] https://towardsdatascience.com/pytorch-autograd-understanding-the-heart-of-pytorchs-magic-2686cd94ec95\n",
        "\n",
        "[3] https://ml-cheatsheet.readthedocs.io/en/latest/backpropagation.html"
      ]
    }
  ]
}